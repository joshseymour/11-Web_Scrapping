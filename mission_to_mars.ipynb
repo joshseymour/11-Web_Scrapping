{
 "cells": [
  {
   "cell_type": "code",
   "execution_count": 1,
   "metadata": {},
   "outputs": [],
   "source": [
    "from splinter import Browser\n",
    "from bs4 import BeautifulSoup as bs\n",
    "import pandas as pd\n",
    "import time"
   ]
  },
  {
   "cell_type": "code",
   "execution_count": 2,
   "metadata": {},
   "outputs": [],
   "source": [
    "def init_browser():\n",
    "    # @NOTE: Replace the path with your actual path to the chromedriver\n",
    "    executable_path = {\"executable_path\": \"/usr/local/bin/chromedriver\"}\n",
    "    #Note: had to remove executable path due to issue with the way chromedriver is loaded.  \n",
    "    #It creates 2 versions of the app, which causes conflict when running.  If running on local PC, uncomment executable_path\n",
    "    # and add **executable_path between \"chrome\" and headless\n",
    "    return Browser(\"chrome\", headless=False)\n"
   ]
  },
  {
   "cell_type": "code",
   "execution_count": 3,
   "metadata": {},
   "outputs": [
    {
     "data": {
      "text/plain": [
       "{'news_title': \"Robotic Toolkit Added to NASA's Mars 2020 Rover\",\n",
       " 'mars_p': \"The bit carousel, which lies at the heart of the rover's Sample Caching System, is now aboard NASA's newest rover. \"}"
      ]
     },
     "execution_count": 3,
     "metadata": {},
     "output_type": "execute_result"
    }
   ],
   "source": [
    "#Mars News Data\n",
    "#Scrape the first news article https://mars.nasa.gov/news and get the first result\n",
    "def scrape():\n",
    "    browser = init_browser()\n",
    "\n",
    "    # Visit https://mars.nasa.gov/news\n",
    "    url = \"https://mars.nasa.gov/news/\"\n",
    "    browser.visit(url)\n",
    "    \n",
    "    # Scrape page into Soup\n",
    "    html = browser.html\n",
    "    soup = bs(html, \"html.parser\")\n",
    "    \n",
    "    #give the page time to load\n",
    "    time.sleep(1)\n",
    "\n",
    "    # Get the first new titles\n",
    "    list_title= soup.select_one(\"ul.item_list li.slide\")\n",
    "    title = list_title.find(\"div\", class_=\"content_title\").get_text()\n",
    " \n",
    "    # Get the first articles teaser body content\n",
    "    content = list_title.find(\"div\", class_=\"article_teaser_body\").get_text()\n",
    "\n",
    "    # Store data in a dictionary\n",
    "    mars_news = {\n",
    "        \"news_title\": title,\n",
    "        \"mars_p\": content\n",
    "    }\n",
    "\n",
    "    # Close the browser after scraping\n",
    "    browser.quit()\n",
    "\n",
    "    # Return results\n",
    "    return mars_news\n",
    "\n",
    "scrape()"
   ]
  },
  {
   "cell_type": "code",
   "execution_count": 4,
   "metadata": {},
   "outputs": [
    {
     "data": {
      "text/plain": [
       "'https://www.jpl.nasa.gov/spaceimages/images/largesize/PIA17936_hires.jpg'"
      ]
     },
     "execution_count": 4,
     "metadata": {},
     "output_type": "execute_result"
    }
   ],
   "source": [
    "#JPL Mars Space Images\n",
    "# Get the image path for the article\n",
    "def scrape():\n",
    "    browser = init_browser()\n",
    "\n",
    "    # Visit https://mars.nasa.gov/news\n",
    "    url = \"https://www.jpl.nasa.gov/spaceimages/?search=&category=Mars\"\n",
    "    img_url = \"https://www.jpl.nasa.gov\"\n",
    "    browser.visit(url)\n",
    "\n",
    "    #give the page time to load\n",
    "    time.sleep(1)\n",
    "    \n",
    "    #step through the pages to get to the page with the image\n",
    "    browser.click_link_by_partial_text('FULL IMAGE')\n",
    "    \n",
    "    #give the page time to load\n",
    "    time.sleep(5)\n",
    "    browser.click_link_by_partial_text('more info')\n",
    "    \n",
    "    # Scrape page into Soup\n",
    "    html = browser.html\n",
    "    soup = bs(html, \"html.parser\")\n",
    "\n",
    "    # Get the first new titles\n",
    "    image = soup.select_one(\"figure.lede a img\").get(\"src\")\n",
    "    \n",
    "    featured_img_url = img_url + image\n",
    "    \n",
    "    browser.quit()\n",
    "    \n",
    "    return featured_img_url\n",
    "    \n",
    "scrape()"
   ]
  },
  {
   "cell_type": "code",
   "execution_count": 22,
   "metadata": {},
   "outputs": [
    {
     "data": {
      "text/plain": [
       "'InSight sol 258 (2019-08-18) low -100.0ºC (-148.1ºF) high -26.2ºC (-15.2ºF)\\nwinds from the SSE at 5.3 m/s (11.9 mph) gusting to 16.8 m/s (37.6 mph)\\npressure at 7.60 hPapic.twitter.com/5nCVjcsmlZ'"
      ]
     },
     "execution_count": 22,
     "metadata": {},
     "output_type": "execute_result"
    }
   ],
   "source": [
    "#Mars Weather\n",
    "#Scrape the latest tweet about Mars weather\n",
    "def scrape():\n",
    "    browser = init_browser()\n",
    "\n",
    "    # Visit https://mars.nasa.gov/news\n",
    "    url = \"https://twitter.com/marswxreport?lang-en\"\n",
    "    browser.visit(url)\n",
    "\n",
    "    #give the page time to load\n",
    "    time.sleep(1)\n",
    "\n",
    "    # Scrape page into Soup\n",
    "    html = browser.html\n",
    "    soup = bs(html, \"html.parser\")\n",
    "\n",
    "    # Get the first new titles\n",
    "    mars_weather = soup.select_one(\"div.js-tweet-text-container p\").get_text()\n",
    "\n",
    "    # Close the browser after scraping\n",
    "    browser.quit()\n",
    "\n",
    "    # Return results\n",
    "    return mars_weather\n",
    "\n",
    "scrape()"
   ]
  },
  {
   "cell_type": "code",
   "execution_count": 5,
   "metadata": {},
   "outputs": [
    {
     "data": {
      "text/html": [
       "<div>\n",
       "<style scoped>\n",
       "    .dataframe tbody tr th:only-of-type {\n",
       "        vertical-align: middle;\n",
       "    }\n",
       "\n",
       "    .dataframe tbody tr th {\n",
       "        vertical-align: top;\n",
       "    }\n",
       "\n",
       "    .dataframe thead th {\n",
       "        text-align: right;\n",
       "    }\n",
       "</style>\n",
       "<table border=\"1\" class=\"dataframe\">\n",
       "  <thead>\n",
       "    <tr style=\"text-align: right;\">\n",
       "      <th></th>\n",
       "      <th>0</th>\n",
       "      <th>1</th>\n",
       "    </tr>\n",
       "  </thead>\n",
       "  <tbody>\n",
       "    <tr>\n",
       "      <th>0</th>\n",
       "      <td>Equatorial Diameter:</td>\n",
       "      <td>6,792 km</td>\n",
       "    </tr>\n",
       "    <tr>\n",
       "      <th>1</th>\n",
       "      <td>Polar Diameter:</td>\n",
       "      <td>6,752 km</td>\n",
       "    </tr>\n",
       "    <tr>\n",
       "      <th>2</th>\n",
       "      <td>Mass:</td>\n",
       "      <td>6.39 × 10^23 kg (0.11 Earths)</td>\n",
       "    </tr>\n",
       "    <tr>\n",
       "      <th>3</th>\n",
       "      <td>Moons:</td>\n",
       "      <td>2 (Phobos &amp; Deimos)</td>\n",
       "    </tr>\n",
       "    <tr>\n",
       "      <th>4</th>\n",
       "      <td>Orbit Distance:</td>\n",
       "      <td>227,943,824 km (1.38 AU)</td>\n",
       "    </tr>\n",
       "  </tbody>\n",
       "</table>\n",
       "</div>"
      ],
      "text/plain": [
       "                      0                              1\n",
       "0  Equatorial Diameter:                       6,792 km\n",
       "1       Polar Diameter:                       6,752 km\n",
       "2                 Mass:  6.39 × 10^23 kg (0.11 Earths)\n",
       "3                Moons:            2 (Phobos & Deimos)\n",
       "4       Orbit Distance:       227,943,824 km (1.38 AU)"
      ]
     },
     "execution_count": 5,
     "metadata": {},
     "output_type": "execute_result"
    }
   ],
   "source": [
    "# Mars Facts\n",
    "#give pandas the URL\n",
    "url = 'https://space-facts.com/mars'\n",
    "tables = pd.read_html(url)[1]\n",
    "tables.head()"
   ]
  },
  {
   "cell_type": "code",
   "execution_count": 8,
   "metadata": {},
   "outputs": [
    {
     "data": {
      "text/html": [
       "<div>\n",
       "<style scoped>\n",
       "    .dataframe tbody tr th:only-of-type {\n",
       "        vertical-align: middle;\n",
       "    }\n",
       "\n",
       "    .dataframe tbody tr th {\n",
       "        vertical-align: top;\n",
       "    }\n",
       "\n",
       "    .dataframe thead th {\n",
       "        text-align: right;\n",
       "    }\n",
       "</style>\n",
       "<table border=\"1\" class=\"dataframe\">\n",
       "  <thead>\n",
       "    <tr style=\"text-align: right;\">\n",
       "      <th></th>\n",
       "      <th>Value</th>\n",
       "    </tr>\n",
       "    <tr>\n",
       "      <th>Description</th>\n",
       "      <th></th>\n",
       "    </tr>\n",
       "  </thead>\n",
       "  <tbody>\n",
       "    <tr>\n",
       "      <th>Polar Diameter:</th>\n",
       "      <td>6,752 km</td>\n",
       "    </tr>\n",
       "    <tr>\n",
       "      <th>Mass:</th>\n",
       "      <td>6.39 × 10^23 kg (0.11 Earths)</td>\n",
       "    </tr>\n",
       "    <tr>\n",
       "      <th>Moons:</th>\n",
       "      <td>2 (Phobos &amp; Deimos)</td>\n",
       "    </tr>\n",
       "    <tr>\n",
       "      <th>Orbit Distance:</th>\n",
       "      <td>227,943,824 km (1.38 AU)</td>\n",
       "    </tr>\n",
       "    <tr>\n",
       "      <th>Orbit Period:</th>\n",
       "      <td>687 days (1.9 years)</td>\n",
       "    </tr>\n",
       "  </tbody>\n",
       "</table>\n",
       "</div>"
      ],
      "text/plain": [
       "                                         Value\n",
       "Description                                   \n",
       "Polar Diameter:                       6,752 km\n",
       "Mass:            6.39 × 10^23 kg (0.11 Earths)\n",
       "Moons:                     2 (Phobos & Deimos)\n",
       "Orbit Distance:       227,943,824 km (1.38 AU)\n",
       "Orbit Period:             687 days (1.9 years)"
      ]
     },
     "execution_count": 8,
     "metadata": {},
     "output_type": "execute_result"
    }
   ],
   "source": [
    "tables.columns = ['Description', 'Value']\n",
    "space_facts = tables.iloc[1:]\n",
    "space_facts.set_index('Description', inplace=True)\n",
    "space_facts.head()"
   ]
  },
  {
   "cell_type": "code",
   "execution_count": 41,
   "metadata": {},
   "outputs": [
    {
     "data": {
      "text/plain": [
       "{'title': 'Cerberus Hemisphere Enhanced',\n",
       " 'url': 'http://astropedia.astrogeology.usgs.gov/download/Mars/Viking/cerberus_enhanced.tif/full.jpg'}"
      ]
     },
     "execution_count": 41,
     "metadata": {},
     "output_type": "execute_result"
    }
   ],
   "source": [
    "#HEMISPHERES\n",
    "# Get the image path for the article\n",
    "def scrape():\n",
    "    browser = init_browser()\n",
    "\n",
    "    # Visit https://mars.nasa.gov/news\n",
    "    url = \"https://astrogeology.usgs.gov/search/results?q=hemisphere+enhanced&k1=target&v1=Mars\"\n",
    "    browser.visit(url)\n",
    "    \n",
    "    #step through the pages to get to the page with the image\n",
    "    time.sleep(1)\n",
    "    browser.click_link_by_partial_text('Cerberus Hemisphere Enhanced')\n",
    "    time.sleep(1)\n",
    "    \n",
    "    # Scrape page into Soup\n",
    "    html = browser.html\n",
    "    soup = bs(html, \"html.parser\")\n",
    "\n",
    "    #scrap the page, gathering the image title and url\n",
    "    title = soup.select_one(\"div.content h2.title\").get_text()\n",
    "    img_url = soup.select_one(\"div.downloads ul li a\").get(\"href\")\n",
    "    \n",
    "    # Store data in a dictionary\n",
    "    hemisphere = {\n",
    "        \"title\": title,\n",
    "        \"url\": img_url\n",
    "    }\n",
    "    \n",
    "    # Close the browser after scraping\n",
    "    browser.quit()\n",
    "    \n",
    "    return hemisphere\n",
    "    \n",
    "scrape()"
   ]
  },
  {
   "cell_type": "code",
   "execution_count": 9,
   "metadata": {},
   "outputs": [
    {
     "data": {
      "text/plain": [
       "[{'title': 'Cerberus Hemisphere Enhanced',\n",
       "  'img_url': 'http://astropedia.astrogeology.usgs.gov/download/Mars/Viking/cerberus_enhanced.tif/full.jpg'},\n",
       " {'title': 'Schiaparelli Hemisphere Enhanced',\n",
       "  'img_url': 'http://astropedia.astrogeology.usgs.gov/download/Mars/Viking/schiaparelli_enhanced.tif/full.jpg'},\n",
       " {'title': 'Syrtis Major Hemisphere Enhanced',\n",
       "  'img_url': 'http://astropedia.astrogeology.usgs.gov/download/Mars/Viking/syrtis_major_enhanced.tif/full.jpg'},\n",
       " {'title': 'Valles Marineris Hemisphere Enhanced',\n",
       "  'img_url': 'http://astropedia.astrogeology.usgs.gov/download/Mars/Viking/valles_marineris_enhanced.tif/full.jpg'}]"
      ]
     },
     "execution_count": 9,
     "metadata": {},
     "output_type": "execute_result"
    }
   ],
   "source": [
    "#HEMISPHERES\n",
    "# Get the image path for the article\n",
    "def scrape():\n",
    "    browser = init_browser()\n",
    "\n",
    "    #create list of links to click through with browser.click_link_by_partial_text\n",
    "    sites = ['Cerberus Hemisphere Enhanced', 'Schiaparelli Hemisphere Enhanced', 'Syrtis Major Hemisphere Enhanced', 'Valles Marineris Hemisphere Enhanced']\n",
    "    \n",
    "    hemisphere_image_url = []\n",
    "    \n",
    "    url = \"https://astrogeology.usgs.gov/search/results?q=hemisphere+enhanced&k1=target&v1=Mars\"\n",
    "    browser.visit(url)\n",
    "\n",
    "    \n",
    "    for site in sites:\n",
    "        try:\n",
    "            # Visit https://mars.nasa.gov/news    \n",
    "            browser.click_link_by_partial_text(site)\n",
    "            time.sleep(1)\n",
    "\n",
    "            # Scrape page into Soup\n",
    "            html = browser.html\n",
    "            soup = bs(html, \"html.parser\")\n",
    "\n",
    "            #scrap the page, gathering the image title and url\n",
    "            title = soup.find(\"h2\", class_=\"title\").get_text()\n",
    "            img_url = soup.find(\"a\", text=\"Sample\").get(\"href\")\n",
    "\n",
    "            # Store data in a dictionary\n",
    "            hemisphere = {\n",
    "                \"title\": title,\n",
    "                \"img_url\": img_url\n",
    "                }\n",
    "            hemisphere_image_url.append(hemisphere)\n",
    "            \n",
    "        except Exception as e:\n",
    "            hemisphere_image_url.append({\n",
    "                \"title\": null,\n",
    "                \"img_url\": null\n",
    "                }) \n",
    "        \n",
    "        browser.back()\n",
    "    \n",
    "    # Close the browser after scraping\n",
    "    browser.quit()\n",
    "    \n",
    "    return hemisphere_image_url\n",
    "    \n",
    "scrape()"
   ]
  },
  {
   "cell_type": "code",
   "execution_count": null,
   "metadata": {},
   "outputs": [],
   "source": [
    "mars_data = {\n",
    "    \"news\": mars_news, \n",
    "    \"image\": featured_img_url,\n",
    "    \"weather\": mars_weather,\n",
    "    \"facts\": space_facts,\n",
    "    \"hemisphere\": hemisphere_image_url\n",
    "    \n",
    "}"
   ]
  },
  {
   "cell_type": "code",
   "execution_count": null,
   "metadata": {},
   "outputs": [],
   "source": []
  }
 ],
 "metadata": {
  "kernelspec": {
   "display_name": "Python 3",
   "language": "python",
   "name": "python3"
  },
  "language_info": {
   "codemirror_mode": {
    "name": "ipython",
    "version": 3
   },
   "file_extension": ".py",
   "mimetype": "text/x-python",
   "name": "python",
   "nbconvert_exporter": "python",
   "pygments_lexer": "ipython3",
   "version": "3.7.3"
  }
 },
 "nbformat": 4,
 "nbformat_minor": 2
}
